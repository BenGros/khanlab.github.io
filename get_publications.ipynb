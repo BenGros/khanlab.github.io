{
 "cells": [
  {
   "cell_type": "markdown",
   "id": "2168544e",
   "metadata": {
    "papermill": {
     "duration": 0.00586,
     "end_time": "2021-05-24T02:35:59.489790",
     "exception": false,
     "start_time": "2021-05-24T02:35:59.483930",
     "status": "completed"
    },
    "tags": []
   },
   "source": [
    "_Adapted from notebook used by [nbclab.github.io](https://nbclab.github.io)._\n",
    "\n",
    "# Retrieve new publications from PubMed \n",
    "\n",
    "This notebook is used to search for and retrieve latest publications by Dr. Khan using BioPython's PubMed search tool. A publication-specific MarkDown file is generated for each unique paper, with many elements automatically set up. As noted in the original notebook, you generally should check that the link to the markdown file exists. Unfortunately, preprints cannot be found via this method (though they can be added manually). This notebook cannot find new preprints. The process is automated and run monthly using Github actions.\n",
    "\n",
    "## Steps (via Github or manual)\n",
    "\n",
    "1. Run this notebook.\n",
    "2. If any new papers were grabbed, check the following:\n",
    "    1. The paper has either of the lab PIs as an author. Ensure that it isn't by *another* AR Laird or MT Sutherland.\n",
    "    2. The paper is not a duplicate of a preprint or another version of the paper. If so, merge the two versions.\n",
    "3. Save the changes to the notebook.\n",
    "4. Push changes to the notebook and affected files to GitHub.\n",
    "5. Open a pull request to khanlab/khanlab.github.io"
   ]
  },
  {
   "cell_type": "code",
   "execution_count": 1,
   "id": "f9d582e2",
   "metadata": {
    "execution": {
     "iopub.execute_input": "2021-05-24T02:35:59.509649Z",
     "iopub.status.busy": "2021-05-24T02:35:59.508664Z",
     "iopub.status.idle": "2021-05-24T02:35:59.849408Z",
     "shell.execute_reply": "2021-05-24T02:35:59.849894Z"
    },
    "papermill": {
     "duration": 0.355791,
     "end_time": "2021-05-24T02:35:59.850140",
     "exception": false,
     "start_time": "2021-05-24T02:35:59.494349",
     "status": "completed"
    },
    "tags": []
   },
   "outputs": [],
   "source": [
    "# Libraries\n",
    "import re\n",
    "from glob import glob\n",
    "\n",
    "from Bio import Entrez, Medline\n",
    "from datetime import datetime\n",
    "from dateutil import parser\n",
    "import pandas as pd"
   ]
  },
  {
   "cell_type": "code",
   "execution_count": 2,
   "id": "28a43f87",
   "metadata": {
    "execution": {
     "iopub.execute_input": "2021-05-24T02:35:59.865090Z",
     "iopub.status.busy": "2021-05-24T02:35:59.864489Z",
     "iopub.status.idle": "2021-05-24T02:35:59.866771Z",
     "shell.execute_reply": "2021-05-24T02:35:59.866280Z"
    },
    "papermill": {
     "duration": 0.010484,
     "end_time": "2021-05-24T02:35:59.866896",
     "exception": false,
     "start_time": "2021-05-24T02:35:59.856412",
     "status": "completed"
    },
    "tags": []
   },
   "outputs": [],
   "source": [
    "# First count number of articles from previous grab\n",
    "try:\n",
    "    df = pd.read_csv(\"_data/publications/publications.csv\")\n",
    "    old_count = len(df)\n",
    "except:\n",
    "    old_count = 0"
   ]
  },
  {
   "cell_type": "code",
   "execution_count": 3,
   "id": "4187e382",
   "metadata": {
    "execution": {
     "iopub.execute_input": "2021-05-24T02:35:59.879641Z",
     "iopub.status.busy": "2021-05-24T02:35:59.879232Z",
     "iopub.status.idle": "2021-05-24T02:35:59.880997Z",
     "shell.execute_reply": "2021-05-24T02:35:59.880697Z"
    },
    "papermill": {
     "duration": 0.009369,
     "end_time": "2021-05-24T02:35:59.881094",
     "exception": false,
     "start_time": "2021-05-24T02:35:59.871725",
     "status": "completed"
    },
    "tags": []
   },
   "outputs": [],
   "source": [
    "# Only grab papers from after the lab PI came to UWO\n",
    "search_criteria = ['''\"Khan AR\"[AUTH] AND (\"2015/01/01\"[PDAT] : \"3000/12/31\"[PDAT]) AND\n",
    "                    (\"Western University\"[AFFL] OR \"University of Western Ontario\"[AFFL] OR\n",
    "                     \"Brain and Mind Institute\"[AFFL] OR \"Robarts Research Institute\"[AFFL])''']\n",
    "\n",
    "# Email required to search\n",
    "Entrez.email = ''"
   ]
  },
  {
   "cell_type": "code",
   "execution_count": 4,
   "id": "6bf1a5dd",
   "metadata": {
    "execution": {
     "iopub.execute_input": "2021-05-24T02:35:59.899335Z",
     "iopub.status.busy": "2021-05-24T02:35:59.898820Z",
     "iopub.status.idle": "2021-05-24T02:36:02.187089Z",
     "shell.execute_reply": "2021-05-24T02:36:02.186681Z"
    },
    "papermill": {
     "duration": 2.30196,
     "end_time": "2021-05-24T02:36:02.187181",
     "exception": false,
     "start_time": "2021-05-24T02:35:59.885221",
     "status": "completed"
    },
    "scrolled": true,
    "tags": []
   },
   "outputs": [
    {
     "name": "stdout",
     "output_type": "stream",
     "text": [
      "Total number of publications containing \"Khan AR\"[AUTH] AND (\"2015/01/01\"[PDAT] : \"3000/12/31\"[PDAT]) AND\n",
      "                    (\"Western University\"[AFFL] OR \"University of Western Ontario\"[AFFL] OR\n",
      "                     \"Brain and Mind Institute\"[AFFL] OR \"Robarts Research Institute\"[AFFL]): 41\n"
     ]
    },
    {
     "name": "stdout",
     "output_type": "stream",
     "text": [
      "Saving identified publications to csv...\n"
     ]
    }
   ],
   "source": [
    "rows = []\n",
    "\n",
    "for TERM in search_criteria:\n",
    "    search = Entrez.esearch(db=\"pubmed\", retmax=\"2\", term=TERM)\n",
    "    result = Entrez.read(search)\n",
    "    print(f\"Total number of publications containing {TERM}: {result['Count']}\")\n",
    "    \n",
    "    search_all = Entrez.esearch(db=\"pubmed\", term=TERM, retmax=result[\"Count\"])\n",
    "    result_all = Entrez.read(search_all)\n",
    "    ids_all = result_all['IdList']\n",
    "    pubs_all = Entrez.efetch(db=\"pubmed\", id=ids_all, rettype='medline', retmode='text')\n",
    "    records = Medline.parse(pubs_all)\n",
    "    \n",
    "    acceptable_formats = [\"journal article\", \"comparative study\", \"editorial\"]\n",
    "    \n",
    "    for record in records:\n",
    "        if any([type_.lower() in acceptable_formats for type_ in record.get('PT')]):\n",
    "            pmid = record.get(\"PMID\")\n",
    "            pmcid = record.get(\"PMC\", \"\")\n",
    "            \n",
    "            doi = [aid for aid in record.get(\"AID\", []) if aid.endswith(\" [doi]\")]\n",
    "            if doi:\n",
    "                doi = doi[0].replace(\" [doi]\", \"\")\n",
    "            else:\n",
    "                doi = \"\"\n",
    "            \n",
    "            title = record.get(\"TI\").rstrip(\".\")\n",
    "            authors = record.get(\"AU\")\n",
    "            \n",
    "            # Allow for cell to continue even if error with parsing date\n",
    "            try:\n",
    "                pub_date = parser.parse(record.get(\"DP\"))\n",
    "            except:\n",
    "                None\n",
    "            journal = record.get('TA')\n",
    "            volume = record.get('VI', '')\n",
    "            issue = record.get('IP', '')\n",
    "            pages = record.get('PG', '')\n",
    "            \n",
    "            row = [pmid, pmcid, doi, title, authors, pub_date.year, pub_date.month,\n",
    "                   pub_date.day, journal, volume, issue, pages]\n",
    "            rows += [row]\n",
    "            \n",
    "# Save all relevant info from articles to a csv.\n",
    "print(\"Saving identified publications to csv...\")\n",
    "df = pd.DataFrame(columns=['pmid', 'pmcid', 'doi', 'title', 'authors',\n",
    "                           'year', 'month', 'day',\n",
    "                           'journal', 'volume', 'issue', 'pages'],\n",
    "                  data=rows)\n",
    "df = df.sort_values(by=['year', 'month', 'day'], ascending=False)\n",
    "df.to_csv('_data/publications/publications.csv', index=False)\n",
    "df = df.fillna('')"
   ]
  },
  {
   "cell_type": "code",
   "execution_count": 5,
   "id": "9c3788a1",
   "metadata": {
    "execution": {
     "iopub.execute_input": "2021-05-24T02:36:02.200261Z",
     "iopub.status.busy": "2021-05-24T02:36:02.199648Z",
     "iopub.status.idle": "2021-05-24T02:36:02.201864Z",
     "shell.execute_reply": "2021-05-24T02:36:02.202252Z"
    },
    "papermill": {
     "duration": 0.010828,
     "end_time": "2021-05-24T02:36:02.202388",
     "exception": false,
     "start_time": "2021-05-24T02:36:02.191560",
     "status": "completed"
    },
    "tags": []
   },
   "outputs": [
    {
     "name": "stdout",
     "output_type": "stream",
     "text": [
      "39 total articles found.\n",
      "39 new articles found.\n"
     ]
    }
   ],
   "source": [
    "# Publications to skip (possibly due to another user with same initial)\n",
    "skip_pmids = []\n",
    "\n",
    "# Add papers we already have pages for.\n",
    "if len(skip_pmids) > 0:\n",
    "    for pmid in skip_pmids:\n",
    "        df = df[df['pmid'] != pmid]\n",
    "        \n",
    "    \n",
    "print(f\"{len(df)} total articles found.\")\n",
    "print(f\"{len(df) - old_count} new articles found.\")"
   ]
  },
  {
   "cell_type": "code",
   "execution_count": null,
   "id": "1bbd6887",
   "metadata": {
    "papermill": {
     "duration": 0.004033,
     "end_time": "2021-05-24T02:36:02.210715",
     "exception": false,
     "start_time": "2021-05-24T02:36:02.206682",
     "status": "completed"
    },
    "tags": []
   },
   "outputs": [],
   "source": []
  }
 ],
 "metadata": {
  "anaconda-cloud": {},
  "kernelspec": {
   "display_name": "Python 3",
   "language": "python",
   "name": "python3"
  },
  "language_info": {
   "codemirror_mode": {
    "name": "ipython",
    "version": 3
   },
   "file_extension": ".py",
   "mimetype": "text/x-python",
   "name": "python",
   "nbconvert_exporter": "python",
   "pygments_lexer": "ipython3",
   "version": "3.8.5"
  },
  "papermill": {
   "default_parameters": {},
   "duration": 4.001764,
   "end_time": "2021-05-24T02:36:02.522029",
   "environment_variables": {},
   "exception": null,
   "input_path": "get_publications.ipynb",
   "output_path": "get_publications.ipynb",
   "parameters": {},
   "start_time": "2021-05-24T02:35:58.520265",
   "version": "2.3.3"
  }
 },
 "nbformat": 4,
 "nbformat_minor": 5
}