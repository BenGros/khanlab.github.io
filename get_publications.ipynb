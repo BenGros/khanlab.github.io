{
 "cells": [
  {
   "cell_type": "markdown",
   "id": "74557173",
   "metadata": {
    "papermill": {
     "duration": 0.020674,
     "end_time": "2022-09-01T05:48:27.098151",
     "exception": false,
     "start_time": "2022-09-01T05:48:27.077477",
     "status": "completed"
    },
    "tags": []
   },
   "source": [
    "_Adapted from notebook used by [nbclab.github.io](https://nbclab.github.io)._\n",
    "\n",
    "# Retrieve new publications from PubMed \n",
    "\n",
    "This notebook is used to search for and retrieve latest publications by Dr. Khan using BioPython's PubMed search tool. A publication-specific MarkDown file is generated for each unique paper, with many elements automatically set up. As noted in the original notebook, you generally should check that the link to the markdown file exists. Unfortunately, preprints cannot be found via this method (though they can be added manually). This notebook cannot find new preprints. The process is automated and runs monthly using Github actions.\n",
    "\n",
    "## Steps (via Github or manual)\n",
    "\n",
    "1. Run this notebook.\n",
    "2. If any new papers were grabbed, check the following:\n",
    "    1. The paper has either of the lab PIs as an author. Ensure that it isn't by *another* AR Khan.\n",
    "    2. The paper is not a duplicate of a preprint or another version of the paper. If so, merge the two versions.\n",
    "3. Save the changes to the notebook.\n",
    "4. Push changes to the notebook and affected files to GitHub.\n",
    "5. Open a pull request to khanlab/khanlab.github.io"
   ]
  },
  {
   "cell_type": "code",
   "execution_count": 1,
   "id": "e22f3858",
   "metadata": {
    "execution": {
     "iopub.execute_input": "2022-09-01T05:48:27.144445Z",
     "iopub.status.busy": "2022-09-01T05:48:27.143929Z",
     "iopub.status.idle": "2022-09-01T05:48:27.477772Z",
     "shell.execute_reply": "2022-09-01T05:48:27.476739Z"
    },
    "papermill": {
     "duration": 0.360447,
     "end_time": "2022-09-01T05:48:27.477912",
     "exception": false,
     "start_time": "2022-09-01T05:48:27.117465",
     "status": "completed"
    },
    "tags": []
   },
   "outputs": [],
   "source": [
    "# Libraries\n",
    "import os \n",
    "\n",
    "from Bio import Entrez, Medline\n",
    "from datetime import datetime\n",
    "from dateutil import parser\n",
    "import pandas as pd"
   ]
  },
  {
   "cell_type": "markdown",
   "id": "d526e19d",
   "metadata": {
    "papermill": {
     "duration": 0.018031,
     "end_time": "2022-09-01T05:48:27.514752",
     "exception": false,
     "start_time": "2022-09-01T05:48:27.496721",
     "status": "completed"
    },
    "tags": []
   },
   "source": [
    "### Check existing publications"
   ]
  },
  {
   "cell_type": "code",
   "execution_count": 2,
   "id": "5d9095c2",
   "metadata": {
    "execution": {
     "iopub.execute_input": "2022-09-01T05:48:27.552613Z",
     "iopub.status.busy": "2022-09-01T05:48:27.552020Z",
     "iopub.status.idle": "2022-09-01T05:48:27.557903Z",
     "shell.execute_reply": "2022-09-01T05:48:27.558264Z"
    },
    "papermill": {
     "duration": 0.027024,
     "end_time": "2022-09-01T05:48:27.558397",
     "exception": false,
     "start_time": "2022-09-01T05:48:27.531373",
     "status": "completed"
    },
    "tags": []
   },
   "outputs": [],
   "source": [
    "# First count number of articles from previous grab\n",
    "pub_data = \"_data/publications/publications.csv\"\n",
    "\n",
    "# Update count of publications from existing file\n",
    "old_count = 0 \n",
    "if os.path.isfile(pub_data):\n",
    "    df_old = pd.read_csv(pub_data)\n",
    "    old_count = len(df_old)"
   ]
  },
  {
   "cell_type": "markdown",
   "id": "da017a87",
   "metadata": {
    "papermill": {
     "duration": 0.016539,
     "end_time": "2022-09-01T05:48:27.591550",
     "exception": false,
     "start_time": "2022-09-01T05:48:27.575011",
     "status": "completed"
    },
    "tags": []
   },
   "source": [
    "### Perform new query"
   ]
  },
  {
   "cell_type": "code",
   "execution_count": 3,
   "id": "700613de",
   "metadata": {
    "execution": {
     "iopub.execute_input": "2022-09-01T05:48:27.629845Z",
     "iopub.status.busy": "2022-09-01T05:48:27.629362Z",
     "iopub.status.idle": "2022-09-01T05:48:27.630938Z",
     "shell.execute_reply": "2022-09-01T05:48:27.631292Z"
    },
    "papermill": {
     "duration": 0.02312,
     "end_time": "2022-09-01T05:48:27.631420",
     "exception": false,
     "start_time": "2022-09-01T05:48:27.608300",
     "status": "completed"
    },
    "tags": []
   },
   "outputs": [],
   "source": [
    "# Only grab papers from after the lab PI came to UWO\n",
    "search_criteria = ['''\"Khan AR\"[AUTH] AND (\"2015/01/01\"[PDAT] : \"3000/12/31\"[PDAT]) AND\n",
    "                    (\"Western University\"[AFFL] OR \"University of Western Ontario\"[AFFL] OR\n",
    "                     \"Brain and Mind Institute\"[AFFL] OR \"Robarts Research Institute\"[AFFL])''']\n",
    "\n",
    "# Email required to search\n",
    "Entrez.email = ''"
   ]
  },
  {
   "cell_type": "code",
   "execution_count": 4,
   "id": "2ad1de07",
   "metadata": {
    "execution": {
     "iopub.execute_input": "2022-09-01T05:48:27.667474Z",
     "iopub.status.busy": "2022-09-01T05:48:27.666978Z",
     "iopub.status.idle": "2022-09-01T05:48:29.924866Z",
     "shell.execute_reply": "2022-09-01T05:48:29.924419Z"
    },
    "papermill": {
     "duration": 2.27699,
     "end_time": "2022-09-01T05:48:29.924978",
     "exception": false,
     "start_time": "2022-09-01T05:48:27.647988",
     "status": "completed"
    },
    "scrolled": true,
    "tags": []
   },
   "outputs": [
    {
     "name": "stdout",
     "output_type": "stream",
     "text": [
      "Total number of publications containing \"Khan AR\"[AUTH] AND (\"2015/01/01\"[PDAT] : \"3000/12/31\"[PDAT]) AND\n",
      "                    (\"Western University\"[AFFL] OR \"University of Western Ontario\"[AFFL] OR\n",
      "                     \"Brain and Mind Institute\"[AFFL] OR \"Robarts Research Institute\"[AFFL]): 60\n"
     ]
    },
    {
     "name": "stdout",
     "output_type": "stream",
     "text": [
      "Saving identified publications to csv...\n"
     ]
    }
   ],
   "source": [
    "rows = []\n",
    "\n",
    "# Publications to skip (possibly due to another user with same initial)\n",
    "skip_pmids = [32971934, 29641820, 29634829]\n",
    "skip_pmids = [str(pmid) for pmid in skip_pmids]\n",
    "\n",
    "for TERM in search_criteria:\n",
    "    search = Entrez.esearch(db=\"pubmed\", retmax=\"2\", term=TERM)\n",
    "    result = Entrez.read(search)\n",
    "    print(f\"Total number of publications containing {TERM}: {result['Count']}\")\n",
    "    \n",
    "    search_all = Entrez.esearch(db=\"pubmed\", term=TERM, retmax=result[\"Count\"])\n",
    "    result_all = Entrez.read(search_all)\n",
    "    ids_all = result_all['IdList']\n",
    "    pubs_all = Entrez.efetch(db=\"pubmed\", id=ids_all, rettype='medline', retmode='text')\n",
    "    records = Medline.parse(pubs_all)\n",
    "    \n",
    "    acceptable_formats = [\"journal article\", \"comparative study\", \"editorial\"]\n",
    "    \n",
    "    for record in records:\n",
    "        if any([type_.lower() in acceptable_formats for type_ in record.get('PT')]):\n",
    "            pmid = record.get(\"PMID\")\n",
    "            pmcid = record.get(\"PMC\", \"\")\n",
    "            \n",
    "            doi = [aid for aid in record.get(\"AID\", []) if aid.endswith(\" [doi]\")]\n",
    "            if doi:\n",
    "                doi = doi[0].replace(\" [doi]\", \"\")\n",
    "            else:\n",
    "                doi = \"\"\n",
    "            \n",
    "            title = record.get(\"TI\").rstrip(\".\")\n",
    "            authors = record.get(\"AU\")\n",
    "            \n",
    "            pub_date = parser.parse(record.get(\"DP\"))\n",
    "            journal = record.get('TA')\n",
    "            volume = record.get('VI', '')\n",
    "            issue = record.get('IP', '')\n",
    "            pages = record.get('PG', '')\n",
    "            \n",
    "            row = [pmid, pmcid, doi, title, authors, pub_date.year, pub_date.month,\n",
    "                   pub_date.day, journal, volume, issue, pages]\n",
    "            rows += [row]\n",
    "            \n",
    "df = pd.DataFrame(columns=['pmid', 'pmcid', 'doi', 'title', 'authors',\n",
    "                           'year', 'month', 'day',\n",
    "                           'journal', 'volume', 'issue', 'pages'],\n",
    "                  data=rows)\n",
    "df = df[~df[\"pmid\"].isin(skip_pmids)]\n",
    "df = df.sort_values(by=['year', 'month', 'day'], ascending=False)\n",
    "\n",
    "new_pubs = df[~df['title'].isin(df_old['title'])]\n",
    "\n",
    "# Append to old pubs to solve date issue\n",
    "df = df_old.append(new_pubs)\n",
    "df = df.fillna('')\n",
    "\n",
    "# Save all relevant info from articles to a csv.\n",
    "print(\"Saving identified publications to csv...\")\n",
    "df.to_csv('_data/publications/publications.csv', index=False)"
   ]
  },
  {
   "cell_type": "code",
   "execution_count": 5,
   "id": "70df731e",
   "metadata": {
    "execution": {
     "iopub.execute_input": "2022-09-01T05:48:29.967826Z",
     "iopub.status.busy": "2022-09-01T05:48:29.967342Z",
     "iopub.status.idle": "2022-09-01T05:48:29.988689Z",
     "shell.execute_reply": "2022-09-01T05:48:29.989064Z"
    },
    "papermill": {
     "duration": 0.045693,
     "end_time": "2022-09-01T05:48:29.989193",
     "exception": false,
     "start_time": "2022-09-01T05:48:29.943500",
     "status": "completed"
    },
    "tags": []
   },
   "outputs": [
    {
     "name": "stdout",
     "output_type": "stream",
     "text": [
      "55 total articles found.\n",
      "3 new articles found.\n",
      "\n",
      "New publications found:\n"
     ]
    },
    {
     "data": {
      "text/html": [
       "<div>\n",
       "<style scoped>\n",
       "    .dataframe tbody tr th:only-of-type {\n",
       "        vertical-align: middle;\n",
       "    }\n",
       "\n",
       "    .dataframe tbody tr th {\n",
       "        vertical-align: top;\n",
       "    }\n",
       "\n",
       "    .dataframe thead th {\n",
       "        text-align: right;\n",
       "    }\n",
       "</style>\n",
       "<table border=\"1\" class=\"dataframe\">\n",
       "  <thead>\n",
       "    <tr style=\"text-align: right;\">\n",
       "      <th></th>\n",
       "      <th>pmid</th>\n",
       "      <th>pmcid</th>\n",
       "      <th>doi</th>\n",
       "      <th>title</th>\n",
       "      <th>authors</th>\n",
       "      <th>year</th>\n",
       "      <th>month</th>\n",
       "      <th>day</th>\n",
       "      <th>journal</th>\n",
       "      <th>volume</th>\n",
       "      <th>issue</th>\n",
       "      <th>pages</th>\n",
       "    </tr>\n",
       "  </thead>\n",
       "  <tbody>\n",
       "    <tr>\n",
       "      <th>0</th>\n",
       "      <td>36002444</td>\n",
       "      <td>PMC9402561</td>\n",
       "      <td>10.1038/s41597-022-01571-4</td>\n",
       "      <td>qMRI-BIDS: An extension to the brain imaging d...</td>\n",
       "      <td>[Karakuzu A, Appelhoff S, Auer T, Boudreau M, ...</td>\n",
       "      <td>2022</td>\n",
       "      <td>8</td>\n",
       "      <td>24</td>\n",
       "      <td>Sci Data</td>\n",
       "      <td>9</td>\n",
       "      <td>1</td>\n",
       "      <td>517</td>\n",
       "    </tr>\n",
       "    <tr>\n",
       "      <th>1</th>\n",
       "      <td>35961469</td>\n",
       "      <td></td>\n",
       "      <td>10.1016/j.neuroimage.2022.119553</td>\n",
       "      <td>Mapping the subcortical connectome using in vi...</td>\n",
       "      <td>[Kai J, Khan AR, Haast RA, Lau JC]</td>\n",
       "      <td>2022</td>\n",
       "      <td>8</td>\n",
       "      <td>9</td>\n",
       "      <td>Neuroimage</td>\n",
       "      <td>262</td>\n",
       "      <td></td>\n",
       "      <td>119553</td>\n",
       "    </tr>\n",
       "    <tr>\n",
       "      <th>55</th>\n",
       "      <td>25424188</td>\n",
       "      <td></td>\n",
       "      <td>10.1002/ana.24318</td>\n",
       "      <td>Magnetic resonance imaging and histology corre...</td>\n",
       "      <td>[Goubran M, Hammond RR, de Ribaupierre S, Burn...</td>\n",
       "      <td>2015</td>\n",
       "      <td>2</td>\n",
       "      <td>1</td>\n",
       "      <td>Ann Neurol</td>\n",
       "      <td>77</td>\n",
       "      <td>2</td>\n",
       "      <td>237-50</td>\n",
       "    </tr>\n",
       "  </tbody>\n",
       "</table>\n",
       "</div>"
      ],
      "text/plain": [
       "        pmid       pmcid                               doi  \\\n",
       "0   36002444  PMC9402561        10.1038/s41597-022-01571-4   \n",
       "1   35961469              10.1016/j.neuroimage.2022.119553   \n",
       "55  25424188                             10.1002/ana.24318   \n",
       "\n",
       "                                                title  \\\n",
       "0   qMRI-BIDS: An extension to the brain imaging d...   \n",
       "1   Mapping the subcortical connectome using in vi...   \n",
       "55  Magnetic resonance imaging and histology corre...   \n",
       "\n",
       "                                              authors  year  month  day  \\\n",
       "0   [Karakuzu A, Appelhoff S, Auer T, Boudreau M, ...  2022      8   24   \n",
       "1                  [Kai J, Khan AR, Haast RA, Lau JC]  2022      8    9   \n",
       "55  [Goubran M, Hammond RR, de Ribaupierre S, Burn...  2015      2    1   \n",
       "\n",
       "       journal volume issue   pages  \n",
       "0     Sci Data      9     1     517  \n",
       "1   Neuroimage    262        119553  \n",
       "55  Ann Neurol     77     2  237-50  "
      ]
     },
     "execution_count": 5,
     "metadata": {},
     "output_type": "execute_result"
    }
   ],
   "source": [
    "# Add papers we already have pages for.\n",
    "if len(skip_pmids) > 0:\n",
    "    for pmid in skip_pmids:\n",
    "        df = df[df['pmid'] != pmid]\n",
    "        \n",
    "print(f\"{len(df)} total articles found.\")\n",
    "print(f\"{len(df) - old_count} new articles found.\")\n",
    "\n",
    "print(\"\\nNew publications found:\")\n",
    "new_pubs\n"
   ]
  },
  {
   "cell_type": "code",
   "execution_count": null,
   "id": "e76e9b21",
   "metadata": {
    "papermill": {
     "duration": 0.0201,
     "end_time": "2022-09-01T05:48:30.029417",
     "exception": false,
     "start_time": "2022-09-01T05:48:30.009317",
     "status": "completed"
    },
    "tags": []
   },
   "outputs": [],
   "source": []
  }
 ],
 "metadata": {
  "anaconda-cloud": {},
  "kernelspec": {
   "display_name": "Python 3.8.10 ('khanlab.github.io-gfxkSQfT-py3.8')",
   "language": "python",
   "name": "python3"
  },
  "language_info": {
   "codemirror_mode": {
    "name": "ipython",
    "version": 3
   },
   "file_extension": ".py",
   "mimetype": "text/x-python",
   "name": "python",
   "nbconvert_exporter": "python",
   "pygments_lexer": "ipython3",
   "version": "3.8.13"
  },
  "papermill": {
   "default_parameters": {},
   "duration": 5.672433,
   "end_time": "2022-09-01T05:48:30.256479",
   "environment_variables": {},
   "exception": null,
   "input_path": "/home/runner/work/khanlab.github.io/khanlab.github.io/get_publications.ipynb",
   "output_path": "/home/runner/work/khanlab.github.io/khanlab.github.io/get_publications.ipynb",
   "parameters": {},
   "start_time": "2022-09-01T05:48:24.584046",
   "version": "2.3.3"
  },
  "vscode": {
   "interpreter": {
    "hash": "f5bc17ec438c58579c8fad5c2a3a4c0e08154707e8777e80eae011e8f60ceb8a"
   }
  }
 },
 "nbformat": 4,
 "nbformat_minor": 5
}